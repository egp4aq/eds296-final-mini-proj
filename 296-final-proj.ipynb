{
 "cells": [
  {
   "cell_type": "markdown",
   "id": "b2befd55",
   "metadata": {},
   "source": [
    "# EDS 296 Final Mini Project\n",
    "#### Authors: Liz Peterson & Brooke Grazda\n",
    "#### Date: 6-10-25"
   ]
  },
  {
   "cell_type": "markdown",
   "id": "7ea9a43b",
   "metadata": {},
   "source": [
    "![amazon-river-basin.jpg](amazon-river-basin.jpg)"
   ]
  },
  {
   "cell_type": "markdown",
   "id": "b519bcb9",
   "metadata": {},
   "source": [
    "### Introduction"
   ]
  },
  {
   "cell_type": "markdown",
   "id": "d24101ef",
   "metadata": {},
   "source": [
    "The region of interest we are choosing for this assignment is Brazil, home of the Amazon. The Amazon Rainforest is located in the northwestern region of Brazil, with 60% of its coverage in this country. Brazil is home to many culturally and intrinsically rich cultures and species, surrounded by lush and tropical habitats. Brazil is the 5th largest nation in the world, spanning 10,492 mi in South America. It touches every country in South America, except for Ecuador and Chile. This country is also home to a Wonder of the World, Christ the Redeemer located in Rio de Janeiro. Every year, millions flock to this large tropical city in the southeastern end of Brazil. Because of its large area and diverse ecosystems, Brazil's climate spans from equatorial humid climates in the south to semi arid climates in the north east. \n",
    "\n",
    "\n",
    "In the [2022 election](https://www.npr.org/2022/10/30/1132561987/brazil-election-lula-da-silva), Luiz Inácio Lula da Silva beat the incumbent president, Bolsonaro, who led a far right, authoritarian presidency. This was a huge win for same sex marriage, abortion, affirmative action, indigenous rights, and environmental protections as Bolsonaro opposed each of these topics. During Bolsonaro's presidency, he rolled back on indigenous rights and facilitated deforestation in the Amazon. Since the election, President Lula de Silva has promoted many fiscal policies and social welfare programs that have led to an increase in national GDP. Much of the environmental damages in the Amazon from Bolsonaro are being reversed under Lula. Despite curbing Bolsonaro's deforestation of the Amazon, Lula has not supported legislation to phase out fossil fuels in the country. \n",
    "\n",
    "\n",
    "Understanding the geopolitical context of the region, Brazil becomes a hotspot for extreme climate events to occur, such as floods, droughts, and heatwaves. With 2024 being the hottest year on record, researchers were able to study the 32 year period from 1991 to 2023. From this [data](https://news.mongabay.com/2025/02/brazil-has-seen-a-460-increase-in-climate-related-disasters-since-the-1990s/), it was found that 64,280 climate-related disasters occured in 92% of Brazilian municipalities. Half of the disasters recorded were droughts, while flooding, torrential rains and high water levels composed 27% of the total. Storms composed 19%. More than 219 million people were affected by death, displacement, homelessness and illness. 78 million of these people were affected during the last four years. The average annual economic losses from these climate related disasters since 2020 is $8.14 billion, which is more than double the average annual loss from the previous year. This ecologically sensitive region supports millions of species and communities whose livelihoods depend entirely on the surrounding ecosystem. As climate change accelerates environmental degradation, humans will inevitably bear the mounting costs of diminished ecosystem services."
   ]
  },
  {
   "cell_type": "markdown",
   "id": "9c2f9426",
   "metadata": {},
   "source": [
    "![<img src=\"brazil-climate1.jpeg\" width=\"200\">](brazil-climate1.jpeg)\n",
    "![map](map-brazil.jpeg)"
   ]
  },
  {
   "cell_type": "markdown",
   "id": "cd3771ea",
   "metadata": {},
   "source": [
    "### Metrics Definition"
   ]
  },
  {
   "cell_type": "markdown",
   "id": "e8035a0c",
   "metadata": {},
   "source": [
    "We will be doing a correlation and regression analysis of soil moisture content (mrso) and air temperature (tas). "
   ]
  },
  {
   "cell_type": "markdown",
   "id": "0160eb0a",
   "metadata": {},
   "source": [
    "### Data I/O"
   ]
  },
  {
   "cell_type": "code",
   "execution_count": 11,
   "id": "0a038b16",
   "metadata": {},
   "outputs": [],
   "source": [
    "import xarray as xr\n",
    "import numpy as np\n",
    "import matplotlib.pyplot as plt\n",
    "import intake\n",
    "import s3fs\n",
    "import cartopy.crs as ccrs\n",
    "import cartopy.feature as cfeature\n",
    "import scipy.stats as stats"
   ]
  },
  {
   "cell_type": "code",
   "execution_count": 16,
   "id": "46c99629",
   "metadata": {},
   "outputs": [
    {
     "name": "stdout",
     "output_type": "stream",
     "text": [
      "Collecting intake-esm\n",
      "  Downloading intake_esm-2025.2.3-py3-none-any.whl.metadata (7.2 kB)\n",
      "Collecting dask>=2024.12 (from dask[complete]>=2024.12->intake-esm)\n",
      "  Downloading dask-2025.5.1-py3-none-any.whl.metadata (3.8 kB)\n",
      "Collecting fastprogress>=1.0.0 (from intake-esm)\n",
      "  Downloading fastprogress-1.0.3-py3-none-any.whl.metadata (5.6 kB)\n",
      "Requirement already satisfied: fsspec>=2024.12 in /Users/bgrazda/opt/anaconda3/envs/eds220-env/lib/python3.11/site-packages (from intake-esm) (2025.5.1)\n",
      "Requirement already satisfied: intake>=2.0.0 in /Users/bgrazda/opt/anaconda3/envs/eds220-env/lib/python3.11/site-packages (from intake-esm) (2.0.8)\n",
      "Collecting netCDF4>=1.5.5 (from intake-esm)\n",
      "  Downloading netCDF4-1.7.2-cp311-cp311-macosx_12_0_x86_64.whl.metadata (1.8 kB)\n",
      "Requirement already satisfied: pandas>=2.1.0 in /Users/bgrazda/opt/anaconda3/envs/eds220-env/lib/python3.11/site-packages (from intake-esm) (2.2.2)\n",
      "Requirement already satisfied: requests>=2.24.0 in /Users/bgrazda/opt/anaconda3/envs/eds220-env/lib/python3.11/site-packages (from intake-esm) (2.32.3)\n",
      "Requirement already satisfied: xarray>=2024.10 in /Users/bgrazda/opt/anaconda3/envs/eds220-env/lib/python3.11/site-packages (from intake-esm) (2024.10.0)\n",
      "Collecting zarr>=2.12 (from intake-esm)\n",
      "  Downloading zarr-3.0.8-py3-none-any.whl.metadata (10.0 kB)\n",
      "Requirement already satisfied: pydantic>=2.0 in /Users/bgrazda/opt/anaconda3/envs/eds220-env/lib/python3.11/site-packages (from intake-esm) (2.9.2)\n",
      "Requirement already satisfied: click>=8.1 in /Users/bgrazda/opt/anaconda3/envs/eds220-env/lib/python3.11/site-packages (from dask>=2024.12->dask[complete]>=2024.12->intake-esm) (8.1.7)\n",
      "Collecting cloudpickle>=3.0.0 (from dask>=2024.12->dask[complete]>=2024.12->intake-esm)\n",
      "  Downloading cloudpickle-3.1.1-py3-none-any.whl.metadata (7.1 kB)\n",
      "Requirement already satisfied: packaging>=20.0 in /Users/bgrazda/opt/anaconda3/envs/eds220-env/lib/python3.11/site-packages (from dask>=2024.12->dask[complete]>=2024.12->intake-esm) (24.1)\n",
      "Collecting partd>=1.4.0 (from dask>=2024.12->dask[complete]>=2024.12->intake-esm)\n",
      "  Downloading partd-1.4.2-py3-none-any.whl.metadata (4.6 kB)\n",
      "Requirement already satisfied: pyyaml>=5.3.1 in /Users/bgrazda/opt/anaconda3/envs/eds220-env/lib/python3.11/site-packages (from dask>=2024.12->dask[complete]>=2024.12->intake-esm) (6.0.2)\n",
      "Collecting toolz>=0.10.0 (from dask>=2024.12->dask[complete]>=2024.12->intake-esm)\n",
      "  Downloading toolz-1.0.0-py3-none-any.whl.metadata (5.1 kB)\n",
      "Requirement already satisfied: importlib_metadata>=4.13.0 in /Users/bgrazda/opt/anaconda3/envs/eds220-env/lib/python3.11/site-packages (from dask>=2024.12->dask[complete]>=2024.12->intake-esm) (8.5.0)\n",
      "Collecting pyarrow>=14.0.1 (from dask[complete]>=2024.12->intake-esm)\n",
      "  Downloading pyarrow-20.0.0-cp311-cp311-macosx_12_0_x86_64.whl.metadata (3.3 kB)\n",
      "Collecting lz4>=4.3.2 (from dask[complete]>=2024.12->intake-esm)\n",
      "  Downloading lz4-4.4.4-cp311-cp311-macosx_10_9_x86_64.whl.metadata (3.8 kB)\n",
      "Requirement already satisfied: platformdirs in /Users/bgrazda/opt/anaconda3/envs/eds220-env/lib/python3.11/site-packages (from intake>=2.0.0->intake-esm) (4.3.6)\n",
      "Requirement already satisfied: networkx in /Users/bgrazda/opt/anaconda3/envs/eds220-env/lib/python3.11/site-packages (from intake>=2.0.0->intake-esm) (3.4.2)\n",
      "Collecting cftime (from netCDF4>=1.5.5->intake-esm)\n",
      "  Downloading cftime-1.6.4.post1-cp311-cp311-macosx_10_9_x86_64.whl.metadata (8.7 kB)\n",
      "Requirement already satisfied: certifi in /Users/bgrazda/opt/anaconda3/envs/eds220-env/lib/python3.11/site-packages (from netCDF4>=1.5.5->intake-esm) (2024.8.30)\n",
      "Requirement already satisfied: numpy in /Users/bgrazda/opt/anaconda3/envs/eds220-env/lib/python3.11/site-packages (from netCDF4>=1.5.5->intake-esm) (1.24.3)\n",
      "Requirement already satisfied: python-dateutil>=2.8.2 in /Users/bgrazda/opt/anaconda3/envs/eds220-env/lib/python3.11/site-packages (from pandas>=2.1.0->intake-esm) (2.9.0)\n",
      "Requirement already satisfied: pytz>=2020.1 in /Users/bgrazda/opt/anaconda3/envs/eds220-env/lib/python3.11/site-packages (from pandas>=2.1.0->intake-esm) (2024.2)\n",
      "Requirement already satisfied: tzdata>=2022.7 in /Users/bgrazda/opt/anaconda3/envs/eds220-env/lib/python3.11/site-packages (from pandas>=2.1.0->intake-esm) (2024.2)\n",
      "Requirement already satisfied: annotated-types>=0.6.0 in /Users/bgrazda/opt/anaconda3/envs/eds220-env/lib/python3.11/site-packages (from pydantic>=2.0->intake-esm) (0.7.0)\n",
      "Requirement already satisfied: pydantic-core==2.23.4 in /Users/bgrazda/opt/anaconda3/envs/eds220-env/lib/python3.11/site-packages (from pydantic>=2.0->intake-esm) (2.23.4)\n",
      "Requirement already satisfied: typing-extensions>=4.6.1 in /Users/bgrazda/opt/anaconda3/envs/eds220-env/lib/python3.11/site-packages (from pydantic>=2.0->intake-esm) (4.12.2)\n",
      "Requirement already satisfied: charset-normalizer<4,>=2 in /Users/bgrazda/opt/anaconda3/envs/eds220-env/lib/python3.11/site-packages (from requests>=2.24.0->intake-esm) (3.4.0)\n",
      "Requirement already satisfied: idna<4,>=2.5 in /Users/bgrazda/opt/anaconda3/envs/eds220-env/lib/python3.11/site-packages (from requests>=2.24.0->intake-esm) (3.10)\n",
      "Requirement already satisfied: urllib3<3,>=1.21.1 in /Users/bgrazda/opt/anaconda3/envs/eds220-env/lib/python3.11/site-packages (from requests>=2.24.0->intake-esm) (2.2.3)\n",
      "Collecting donfig>=0.8 (from zarr>=2.12->intake-esm)\n",
      "  Downloading donfig-0.8.1.post1-py3-none-any.whl.metadata (5.0 kB)\n",
      "Collecting numcodecs>=0.14 (from numcodecs[crc32c]>=0.14->zarr>=2.12->intake-esm)\n",
      "  Downloading numcodecs-0.16.1-cp311-cp311-macosx_10_13_x86_64.whl.metadata (3.3 kB)\n",
      "Collecting numpy (from netCDF4>=1.5.5->intake-esm)\n",
      "  Downloading numpy-2.2.6-cp311-cp311-macosx_14_0_x86_64.whl.metadata (62 kB)\n",
      "\u001b[2K     \u001b[90m━━━━━━━━━━━━━━━━━━━━━━━━━━━━━━━━━━━━━━━━\u001b[0m \u001b[32m62.0/62.0 kB\u001b[0m \u001b[31m4.1 MB/s\u001b[0m eta \u001b[36m0:00:00\u001b[0m\n",
      "\u001b[?25hRequirement already satisfied: zipp>=3.20 in /Users/bgrazda/opt/anaconda3/envs/eds220-env/lib/python3.11/site-packages (from importlib_metadata>=4.13.0->dask>=2024.12->dask[complete]>=2024.12->intake-esm) (3.20.2)\n",
      "Collecting crc32c>=2.7 (from numcodecs[crc32c]>=0.14->zarr>=2.12->intake-esm)\n",
      "  Downloading crc32c-2.7.1-cp311-cp311-macosx_10_9_x86_64.whl.metadata (7.3 kB)\n",
      "Collecting locket (from partd>=1.4.0->dask>=2024.12->dask[complete]>=2024.12->intake-esm)\n",
      "  Downloading locket-1.0.0-py2.py3-none-any.whl.metadata (2.8 kB)\n",
      "Requirement already satisfied: six>=1.5 in /Users/bgrazda/opt/anaconda3/envs/eds220-env/lib/python3.11/site-packages (from python-dateutil>=2.8.2->pandas>=2.1.0->intake-esm) (1.16.0)\n",
      "Collecting distributed==2025.5.1 (from dask>=2024.12->dask[complete]>=2024.12->intake-esm)\n",
      "  Downloading distributed-2025.5.1-py3-none-any.whl.metadata (3.4 kB)\n",
      "Collecting bokeh>=3.1.0 (from dask>=2024.12->dask[complete]>=2024.12->intake-esm)\n",
      "  Downloading bokeh-3.7.3-py3-none-any.whl.metadata (12 kB)\n",
      "Requirement already satisfied: jinja2>=2.10.3 in /Users/bgrazda/opt/anaconda3/envs/eds220-env/lib/python3.11/site-packages (from dask>=2024.12->dask[complete]>=2024.12->intake-esm) (3.1.4)\n",
      "Collecting msgpack>=1.0.2 (from distributed==2025.5.1->dask>=2024.12->dask[complete]>=2024.12->intake-esm)\n",
      "  Downloading msgpack-1.1.0-cp311-cp311-macosx_10_9_x86_64.whl.metadata (8.4 kB)\n",
      "Requirement already satisfied: psutil>=5.8.0 in /Users/bgrazda/opt/anaconda3/envs/eds220-env/lib/python3.11/site-packages (from distributed==2025.5.1->dask>=2024.12->dask[complete]>=2024.12->intake-esm) (6.1.0)\n",
      "Collecting sortedcontainers>=2.0.5 (from distributed==2025.5.1->dask>=2024.12->dask[complete]>=2024.12->intake-esm)\n",
      "  Downloading sortedcontainers-2.4.0-py2.py3-none-any.whl.metadata (10 kB)\n",
      "Collecting tblib>=1.6.0 (from distributed==2025.5.1->dask>=2024.12->dask[complete]>=2024.12->intake-esm)\n",
      "  Downloading tblib-3.1.0-py3-none-any.whl.metadata (25 kB)\n",
      "Requirement already satisfied: tornado>=6.2.0 in /Users/bgrazda/opt/anaconda3/envs/eds220-env/lib/python3.11/site-packages (from distributed==2025.5.1->dask>=2024.12->dask[complete]>=2024.12->intake-esm) (6.4.1)\n",
      "Collecting zict>=3.0.0 (from distributed==2025.5.1->dask>=2024.12->dask[complete]>=2024.12->intake-esm)\n",
      "  Downloading zict-3.0.0-py2.py3-none-any.whl.metadata (899 bytes)\n",
      "Requirement already satisfied: contourpy>=1.2 in /Users/bgrazda/opt/anaconda3/envs/eds220-env/lib/python3.11/site-packages (from bokeh>=3.1.0->dask>=2024.12->dask[complete]>=2024.12->intake-esm) (1.3.0)\n",
      "Collecting narwhals>=1.13 (from bokeh>=3.1.0->dask>=2024.12->dask[complete]>=2024.12->intake-esm)\n",
      "  Downloading narwhals-1.41.0-py3-none-any.whl.metadata (11 kB)\n",
      "Requirement already satisfied: pillow>=7.1.0 in /Users/bgrazda/opt/anaconda3/envs/eds220-env/lib/python3.11/site-packages (from bokeh>=3.1.0->dask>=2024.12->dask[complete]>=2024.12->intake-esm) (11.0.0)\n",
      "Requirement already satisfied: xyzservices>=2021.09.1 in /Users/bgrazda/opt/anaconda3/envs/eds220-env/lib/python3.11/site-packages (from bokeh>=3.1.0->dask>=2024.12->dask[complete]>=2024.12->intake-esm) (2024.9.0)\n",
      "Requirement already satisfied: MarkupSafe>=2.0 in /Users/bgrazda/opt/anaconda3/envs/eds220-env/lib/python3.11/site-packages (from jinja2>=2.10.3->dask>=2024.12->dask[complete]>=2024.12->intake-esm) (3.0.2)\n",
      "Downloading intake_esm-2025.2.3-py3-none-any.whl (30 kB)\n",
      "Downloading dask-2025.5.1-py3-none-any.whl (1.5 MB)\n",
      "\u001b[2K   \u001b[90m━━━━━━━━━━━━━━━━━━━━━━━━━━━━━━━━━━━━━━━━\u001b[0m \u001b[32m1.5/1.5 MB\u001b[0m \u001b[31m23.8 MB/s\u001b[0m eta \u001b[36m0:00:00\u001b[0ma \u001b[36m0:00:01\u001b[0m\n",
      "\u001b[?25hDownloading fastprogress-1.0.3-py3-none-any.whl (12 kB)\n",
      "Downloading netCDF4-1.7.2-cp311-cp311-macosx_12_0_x86_64.whl (3.0 MB)\n",
      "\u001b[2K   \u001b[90m━━━━━━━━━━━━━━━━━━━━━━━━━━━━━━━━━━━━━━━━\u001b[0m \u001b[32m3.0/3.0 MB\u001b[0m \u001b[31m30.1 MB/s\u001b[0m eta \u001b[36m0:00:00\u001b[0ma \u001b[36m0:00:01\u001b[0m\n",
      "\u001b[?25hDownloading zarr-3.0.8-py3-none-any.whl (205 kB)\n",
      "\u001b[2K   \u001b[90m━━━━━━━━━━━━━━━━━━━━━━━━━━━━━━━━━━━━━━━━\u001b[0m \u001b[32m205.4/205.4 kB\u001b[0m \u001b[31m17.0 MB/s\u001b[0m eta \u001b[36m0:00:00\u001b[0m\n",
      "\u001b[?25hDownloading cloudpickle-3.1.1-py3-none-any.whl (20 kB)\n",
      "Downloading donfig-0.8.1.post1-py3-none-any.whl (21 kB)\n",
      "Downloading lz4-4.4.4-cp311-cp311-macosx_10_9_x86_64.whl (220 kB)\n",
      "\u001b[2K   \u001b[90m━━━━━━━━━━━━━━━━━━━━━━━━━━━━━━━━━━━━━━━━\u001b[0m \u001b[32m220.9/220.9 kB\u001b[0m \u001b[31m18.8 MB/s\u001b[0m eta \u001b[36m0:00:00\u001b[0m\n",
      "\u001b[?25hDownloading numcodecs-0.16.1-cp311-cp311-macosx_10_13_x86_64.whl (1.6 MB)\n",
      "\u001b[2K   \u001b[90m━━━━━━━━━━━━━━━━━━━━━━━━━━━━━━━━━━━━━━━━\u001b[0m \u001b[32m1.6/1.6 MB\u001b[0m \u001b[31m27.4 MB/s\u001b[0m eta \u001b[36m0:00:00\u001b[0ma \u001b[36m0:00:01\u001b[0m\n",
      "\u001b[?25hDownloading numpy-2.2.6-cp311-cp311-macosx_14_0_x86_64.whl (6.9 MB)\n",
      "\u001b[2K   \u001b[90m━━━━━━━━━━━━━━━━━━━━━━━━━━━━━━━━━━━━━━━━\u001b[0m \u001b[32m6.9/6.9 MB\u001b[0m \u001b[31m31.2 MB/s\u001b[0m eta \u001b[36m0:00:00\u001b[0ma \u001b[36m0:00:01\u001b[0m\n",
      "\u001b[?25hDownloading partd-1.4.2-py3-none-any.whl (18 kB)\n",
      "Downloading pyarrow-20.0.0-cp311-cp311-macosx_12_0_x86_64.whl (32.3 MB)\n",
      "\u001b[2K   \u001b[90m━━━━━━━━━━━━━━━━━━━━━━━━━━━━━━━━━━━━━━━━\u001b[0m \u001b[32m32.3/32.3 MB\u001b[0m \u001b[31m28.7 MB/s\u001b[0m eta \u001b[36m0:00:00\u001b[0m00:01\u001b[0m00:01\u001b[0m\n",
      "\u001b[?25hDownloading toolz-1.0.0-py3-none-any.whl (56 kB)\n",
      "\u001b[2K   \u001b[90m━━━━━━━━━━━━━━━━━━━━━━━━━━━━━━━━━━━━━━━━\u001b[0m \u001b[32m56.4/56.4 kB\u001b[0m \u001b[31m5.9 MB/s\u001b[0m eta \u001b[36m0:00:00\u001b[0m\n",
      "\u001b[?25hDownloading cftime-1.6.4.post1-cp311-cp311-macosx_10_9_x86_64.whl (233 kB)\n",
      "\u001b[2K   \u001b[90m━━━━━━━━━━━━━━━━━━━━━━━━━━━━━━━━━━━━━━━━\u001b[0m \u001b[32m233.4/233.4 kB\u001b[0m \u001b[31m17.2 MB/s\u001b[0m eta \u001b[36m0:00:00\u001b[0m\n",
      "\u001b[?25hDownloading distributed-2025.5.1-py3-none-any.whl (1.0 MB)\n",
      "\u001b[2K   \u001b[90m━━━━━━━━━━━━━━━━━━━━━━━━━━━━━━━━━━━━━━━━\u001b[0m \u001b[32m1.0/1.0 MB\u001b[0m \u001b[31m26.5 MB/s\u001b[0m eta \u001b[36m0:00:00\u001b[0m00:01\u001b[0m\n",
      "\u001b[?25hDownloading bokeh-3.7.3-py3-none-any.whl (7.0 MB)\n",
      "\u001b[2K   \u001b[90m━━━━━━━━━━━━━━━━━━━━━━━━━━━━━━━━━━━━━━━━\u001b[0m \u001b[32m7.0/7.0 MB\u001b[0m \u001b[31m32.4 MB/s\u001b[0m eta \u001b[36m0:00:00\u001b[0ma \u001b[36m0:00:01\u001b[0m\n",
      "\u001b[?25hDownloading crc32c-2.7.1-cp311-cp311-macosx_10_9_x86_64.whl (37 kB)\n",
      "Downloading locket-1.0.0-py2.py3-none-any.whl (4.4 kB)\n",
      "Downloading msgpack-1.1.0-cp311-cp311-macosx_10_9_x86_64.whl (84 kB)\n",
      "\u001b[2K   \u001b[90m━━━━━━━━━━━━━━━━━━━━━━━━━━━━━━━━━━━━━━━━\u001b[0m \u001b[32m84.3/84.3 kB\u001b[0m \u001b[31m15.5 MB/s\u001b[0m eta \u001b[36m0:00:00\u001b[0m\n",
      "\u001b[?25hDownloading narwhals-1.41.0-py3-none-any.whl (357 kB)\n",
      "\u001b[2K   \u001b[90m━━━━━━━━━━━━━━━━━━━━━━━━━━━━━━━━━━━━━━━━\u001b[0m \u001b[32m358.0/358.0 kB\u001b[0m \u001b[31m23.6 MB/s\u001b[0m eta \u001b[36m0:00:00\u001b[0m\n",
      "\u001b[?25hDownloading sortedcontainers-2.4.0-py2.py3-none-any.whl (29 kB)\n",
      "Downloading tblib-3.1.0-py3-none-any.whl (12 kB)\n",
      "Downloading zict-3.0.0-py2.py3-none-any.whl (43 kB)\n",
      "\u001b[2K   \u001b[90m━━━━━━━━━━━━━━━━━━━━━━━━━━━━━━━━━━━━━━━━\u001b[0m \u001b[32m43.3/43.3 kB\u001b[0m \u001b[31m7.8 MB/s\u001b[0m eta \u001b[36m0:00:00\u001b[0m\n",
      "\u001b[?25hInstalling collected packages: sortedcontainers, zict, toolz, tblib, pyarrow, numpy, narwhals, msgpack, lz4, locket, fastprogress, donfig, crc32c, cloudpickle, partd, numcodecs, cftime, netCDF4, dask, bokeh, zarr, distributed, intake-esm\n",
      "  Attempting uninstall: numpy\n",
      "    Found existing installation: numpy 1.24.3\n",
      "    Uninstalling numpy-1.24.3:\n",
      "      Successfully uninstalled numpy-1.24.3\n",
      "Successfully installed bokeh-3.7.3 cftime-1.6.4.post1 cloudpickle-3.1.1 crc32c-2.7.1 dask-2025.5.1 distributed-2025.5.1 donfig-0.8.1.post1 fastprogress-1.0.3 intake-esm-2025.2.3 locket-1.0.0 lz4-4.4.4 msgpack-1.1.0 narwhals-1.41.0 netCDF4-1.7.2 numcodecs-0.16.1 numpy-2.2.6 partd-1.4.2 pyarrow-20.0.0 sortedcontainers-2.4.0 tblib-3.1.0 toolz-1.0.0 zarr-3.0.8 zict-3.0.0\n",
      "Note: you may need to restart the kernel to use updated packages.\n"
     ]
    }
   ],
   "source": [
    "pip install intake-esm\n"
   ]
  },
  {
   "cell_type": "code",
   "execution_count": 18,
   "id": "92bda07a",
   "metadata": {},
   "outputs": [
    {
     "ename": "AttributeError",
     "evalue": "Unknown open method 'open_esm_datastore'. Do you need to install a new driver from the plugin directory? https://intake.readthedocs.io/en/latest/plugin-directory.html\nRegistered opener methods: ['open_csv', 'open_jsonfiles', 'open_ndzarr', 'open_numpy', 'open_textfiles', 'open_tiled_cat', 'open_yaml_file_cat', 'open_yaml_files_cat']",
     "output_type": "error",
     "traceback": [
      "\u001b[0;31m---------------------------------------------------------------------------\u001b[0m",
      "\u001b[0;31mAttributeError\u001b[0m                            Traceback (most recent call last)",
      "Cell \u001b[0;32mIn[18], line 2\u001b[0m\n\u001b[1;32m      1\u001b[0m \u001b[38;5;66;03m# Open the CMIP6 data catalog, store as a variable\u001b[39;00m\n\u001b[0;32m----> 2\u001b[0m catalog \u001b[38;5;241m=\u001b[39m \u001b[43mintake\u001b[49m\u001b[38;5;241;43m.\u001b[39;49m\u001b[43mopen_esm_datastore\u001b[49m(\u001b[38;5;124m'\u001b[39m\u001b[38;5;124mhttps://cmip6-pds.s3.amazonaws.com/pangeo-cmip6.json\u001b[39m\u001b[38;5;124m'\u001b[39m)\n",
      "File \u001b[0;32m~/opt/anaconda3/envs/eds220-env/lib/python3.11/site-packages/intake/__init__.py:86\u001b[0m, in \u001b[0;36m__getattr__\u001b[0;34m(attr)\u001b[0m\n\u001b[1;32m     84\u001b[0m     \u001b[38;5;28;01melse\u001b[39;00m:\n\u001b[1;32m     85\u001b[0m         registered_methods \u001b[38;5;241m=\u001b[39m [\u001b[38;5;124mf\u001b[39m\u001b[38;5;124m\"\u001b[39m\u001b[38;5;124mopen_\u001b[39m\u001b[38;5;132;01m{\u001b[39;00mdriver\u001b[38;5;132;01m}\u001b[39;00m\u001b[38;5;124m\"\u001b[39m \u001b[38;5;28;01mfor\u001b[39;00m driver \u001b[38;5;129;01min\u001b[39;00m registry\u001b[38;5;241m.\u001b[39mdrivers\u001b[38;5;241m.\u001b[39menabled_plugins()]\n\u001b[0;32m---> 86\u001b[0m         \u001b[38;5;28;01mraise\u001b[39;00m \u001b[38;5;167;01mAttributeError\u001b[39;00m(\n\u001b[1;32m     87\u001b[0m             \u001b[38;5;124mf\u001b[39m\u001b[38;5;124m\"\u001b[39m\u001b[38;5;124mUnknown open method \u001b[39m\u001b[38;5;124m'\u001b[39m\u001b[38;5;132;01m{\u001b[39;00mattr\u001b[38;5;132;01m}\u001b[39;00m\u001b[38;5;124m'\u001b[39m\u001b[38;5;124m. \u001b[39m\u001b[38;5;124m\"\u001b[39m\n\u001b[1;32m     88\u001b[0m             \u001b[38;5;124m\"\u001b[39m\u001b[38;5;124mDo you need to install a new driver from the plugin directory? \u001b[39m\u001b[38;5;124m\"\u001b[39m\n\u001b[1;32m     89\u001b[0m             \u001b[38;5;124m\"\u001b[39m\u001b[38;5;124mhttps://intake.readthedocs.io/en/latest/plugin-directory.html\u001b[39m\u001b[38;5;130;01m\\n\u001b[39;00m\u001b[38;5;124m\"\u001b[39m\n\u001b[1;32m     90\u001b[0m             \u001b[38;5;124mf\u001b[39m\u001b[38;5;124m\"\u001b[39m\u001b[38;5;124mRegistered opener methods: \u001b[39m\u001b[38;5;132;01m{\u001b[39;00mregistered_methods\u001b[38;5;132;01m}\u001b[39;00m\u001b[38;5;124m\"\u001b[39m\n\u001b[1;32m     91\u001b[0m         )\n\u001b[1;32m     93\u001b[0m \u001b[38;5;28;01mraise\u001b[39;00m \u001b[38;5;167;01mAttributeError\u001b[39;00m(attr)\n",
      "\u001b[0;31mAttributeError\u001b[0m: Unknown open method 'open_esm_datastore'. Do you need to install a new driver from the plugin directory? https://intake.readthedocs.io/en/latest/plugin-directory.html\nRegistered opener methods: ['open_csv', 'open_jsonfiles', 'open_ndzarr', 'open_numpy', 'open_textfiles', 'open_tiled_cat', 'open_yaml_file_cat', 'open_yaml_files_cat']"
     ]
    }
   ],
   "source": [
    "# Open the CMIP6 data catalog, store as a variable\n",
    "catalog = intake.open_esm_datastore('https://cmip6-pds.s3.amazonaws.com/pangeo-cmip6.json')"
   ]
  },
  {
   "cell_type": "markdown",
   "id": "b5dc243e",
   "metadata": {},
   "source": [
    "### Metrics Computation"
   ]
  },
  {
   "cell_type": "code",
   "execution_count": null,
   "id": "38bd7831",
   "metadata": {},
   "outputs": [],
   "source": []
  },
  {
   "cell_type": "markdown",
   "id": "02d3ed55",
   "metadata": {},
   "source": [
    "### Visualizations"
   ]
  },
  {
   "cell_type": "code",
   "execution_count": null,
   "id": "7de1ba19",
   "metadata": {},
   "outputs": [],
   "source": []
  },
  {
   "cell_type": "markdown",
   "id": "93582d02",
   "metadata": {},
   "source": [
    "### Conclusions"
   ]
  },
  {
   "cell_type": "code",
   "execution_count": null,
   "id": "aaadb2be",
   "metadata": {},
   "outputs": [],
   "source": []
  }
 ],
 "metadata": {
  "kernelspec": {
   "display_name": "Python 3",
   "language": "python",
   "name": "python3"
  },
  "language_info": {
   "codemirror_mode": {
    "name": "ipython",
    "version": 3
   },
   "file_extension": ".py",
   "mimetype": "text/x-python",
   "name": "python",
   "nbconvert_exporter": "python",
   "pygments_lexer": "ipython3",
   "version": "3.11.4"
  }
 },
 "nbformat": 4,
 "nbformat_minor": 5
}
