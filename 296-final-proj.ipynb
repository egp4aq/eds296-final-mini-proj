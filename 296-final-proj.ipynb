{
 "cells": [
  {
   "cell_type": "markdown",
   "id": "b2befd55",
   "metadata": {},
   "source": [
    "# EDS 296 Final Mini Project\n",
    "#### Authors: Liz Peterson & Brooke Grazda\n",
    "#### Date: 6-10-25"
   ]
  },
  {
   "cell_type": "markdown",
   "id": "7ea9a43b",
   "metadata": {},
   "source": [
    "![amazon-river-basin.jpg](amazon-river-basin.jpg)"
   ]
  },
  {
   "cell_type": "markdown",
   "id": "b519bcb9",
   "metadata": {},
   "source": [
    "### Introduction"
   ]
  },
  {
   "cell_type": "markdown",
   "id": "d24101ef",
   "metadata": {},
   "source": [
    "The region of interest we are choosing for this assignment is Brazil, home of the Amazon. The Amazon Rainforest is located in the northwestern region of Brazil, with 60% of its coverage in this country. Brazil is home to many culturally and intrinsically rich cultures and species, surrounded by lush and tropical habitats. Brazil is the 5th largest nation in the world, spanning 10,492 mi in South America. It touches every country in South America, except for Ecuador and Chile. This country is also home to a Wonder of the World, Christ the Redeemer located in Rio de Janeiro. Every year, millions flock to this large tropical city in the southeastern end of Brazil. Because of its large area and diverse ecosystems, Brazil's climate spans from equatorial humid climates in the south to semi arid climates in the north east. \n",
    "\n",
    "\n",
    "In the [2022 election](https://www.npr.org/2022/10/30/1132561987/brazil-election-lula-da-silva), Luiz Inácio Lula da Silva beat the incumbent president, Bolsonaro, who led a far right, authoritarian presidency. This was a huge win for same sex marriage, abortion, affirmative action, indigenous rights, and environmental protections as Bolsonaro opposed each of these topics. During Bolsonaro's presidency, he rolled back on indigenous rights and facilitated deforestation in the Amazon. Since the election, President Lula de Silva has promoted many fiscal policies and social welfare programs that have led to an increase in national GDP. Much of the environmental damages in the Amazon from Bolsonaro are being reversed under Lula. Despite curbing Bolsonaro's deforestation of the Amazon, Lula has not supported legislation to phase out fossil fuels in the country. \n",
    "\n",
    "\n",
    "Understanding the geopolitical context of the region, Brazil becomes a hotspot for extreme climate events to occur, such as floods, droughts, and heatwaves. With 2024 being the hottest year on record, researchers were able to study the 32 year period from 1991 to 2023. From this [data](https://news.mongabay.com/2025/02/brazil-has-seen-a-460-increase-in-climate-related-disasters-since-the-1990s/), it was found that 64,280 climate-related disasters occured in 92% of Brazilian municipalities. Half of the disasters recorded were droughts, while flooding, torrential rains and high water levels composed 27% of the total. Storms composed 19%. More than 219 million people were affected by death, displacement, homelessness and illness. 78 million of these people were affected during the last four years. The average annual economic losses from these climate related disasters since 2020 is $8.14 billion, which is more than double the average annual loss from the previous year. This ecologically sensitive region supports millions of species and communities whose livelihoods depend entirely on the surrounding ecosystem. As climate change accelerates environmental degradation, humans will inevitably bear the mounting costs of diminished ecosystem services."
   ]
  },
  {
   "cell_type": "markdown",
   "id": "9c2f9426",
   "metadata": {},
   "source": [
    "![<img src=\"brazil-climate1.jpeg\" width=\"200\">](brazil-climate1.jpeg)\n",
    "![map](map-brazil.jpeg)"
   ]
  },
  {
   "cell_type": "markdown",
   "id": "cd3771ea",
   "metadata": {},
   "source": [
    "### Metrics Definition"
   ]
  },
  {
   "cell_type": "code",
   "execution_count": null,
   "id": "e8035a0c",
   "metadata": {},
   "outputs": [],
   "source": []
  },
  {
   "cell_type": "markdown",
   "id": "0160eb0a",
   "metadata": {},
   "source": [
    "### Data I/O"
   ]
  },
  {
   "cell_type": "markdown",
   "id": "b169c166",
   "metadata": {},
   "source": []
  },
  {
   "cell_type": "markdown",
   "id": "b5dc243e",
   "metadata": {},
   "source": [
    "### Metrics Computation"
   ]
  },
  {
   "cell_type": "code",
   "execution_count": null,
   "id": "38bd7831",
   "metadata": {},
   "outputs": [],
   "source": []
  },
  {
   "cell_type": "markdown",
   "id": "02d3ed55",
   "metadata": {},
   "source": [
    "### Visualizations"
   ]
  },
  {
   "cell_type": "code",
   "execution_count": null,
   "id": "7de1ba19",
   "metadata": {},
   "outputs": [],
   "source": []
  },
  {
   "cell_type": "markdown",
   "id": "93582d02",
   "metadata": {},
   "source": [
    "### Conclusions"
   ]
  },
  {
   "cell_type": "code",
   "execution_count": null,
   "id": "aaadb2be",
   "metadata": {},
   "outputs": [],
   "source": []
  }
 ],
 "metadata": {
  "language_info": {
   "name": "python"
  }
 },
 "nbformat": 4,
 "nbformat_minor": 5
}
