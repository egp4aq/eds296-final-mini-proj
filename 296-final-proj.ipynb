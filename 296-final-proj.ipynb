{
 "cells": [
  {
   "cell_type": "markdown",
   "id": "b2befd55",
   "metadata": {},
   "source": [
    "# EDS 296 Final Mini Project\n",
    "#### Authors: Liz Peterson & Brooke Grazda\n",
    "#### Date: 6-10-25"
   ]
  },
  {
   "cell_type": "markdown",
   "id": "7ea9a43b",
   "metadata": {},
   "source": [
    "![amazon-river-basin.jpg](amazon-river-basin.jpg)"
   ]
  },
  {
   "cell_type": "markdown",
   "id": "b519bcb9",
   "metadata": {},
   "source": [
    "### Introduction"
   ]
  },
  {
   "cell_type": "markdown",
   "id": "d24101ef",
   "metadata": {},
   "source": [
    "The region of interest we are choosing for this assignment is Brazil, home of the Amazon. The Amazon Rainforest is located in the northwestern region of Brazil, with 60% of its coverage in this country. Brazil is home to many culturally and intrinsically rich cultures and species, surrounded by lush and tropical habitats. Brazil is the 5th largest nation in the world, spanning 10,492 mi in South America. It touches every country in South America, except for Ecuador and Chile. This country is also home to a Wonder of the World, Christ the Redeemer located in Rio de Janeiro. Every year, millions flock to this large tropical city in the southeastern end of Brazil. Because of its large area and diverse ecosystems, Brazil's climate spans from equatorial humid climates in the south to semi arid climates in the north east. \n"
   ]
  },
  {
   "cell_type": "markdown",
   "id": "9c2f9426",
   "metadata": {},
   "source": [
    "![<img src=\"brazil-climate1.jpeg\" width=\"200\">](brazil-climate1.jpeg)\n",
    "![map](map-brazil.jpeg)"
   ]
  },
  {
   "cell_type": "markdown",
   "id": "cd3771ea",
   "metadata": {},
   "source": [
    "### Metrics Definition"
   ]
  },
  {
   "cell_type": "code",
   "execution_count": null,
   "id": "e8035a0c",
   "metadata": {},
   "outputs": [],
   "source": []
  },
  {
   "cell_type": "markdown",
   "id": "0160eb0a",
   "metadata": {},
   "source": [
    "### Data I/O"
   ]
  },
  {
   "cell_type": "markdown",
   "id": "b169c166",
   "metadata": {},
   "source": []
  },
  {
   "cell_type": "markdown",
   "id": "b5dc243e",
   "metadata": {},
   "source": [
    "### Metrics Computation"
   ]
  },
  {
   "cell_type": "code",
   "execution_count": null,
   "id": "38bd7831",
   "metadata": {},
   "outputs": [],
   "source": []
  },
  {
   "cell_type": "markdown",
   "id": "02d3ed55",
   "metadata": {},
   "source": [
    "### Visualizations"
   ]
  },
  {
   "cell_type": "code",
   "execution_count": null,
   "id": "7de1ba19",
   "metadata": {},
   "outputs": [],
   "source": []
  },
  {
   "cell_type": "markdown",
   "id": "93582d02",
   "metadata": {},
   "source": [
    "### Conclusions"
   ]
  },
  {
   "cell_type": "code",
   "execution_count": null,
   "id": "aaadb2be",
   "metadata": {},
   "outputs": [],
   "source": []
  }
 ],
 "metadata": {
  "language_info": {
   "name": "python"
  }
 },
 "nbformat": 4,
 "nbformat_minor": 5
}
