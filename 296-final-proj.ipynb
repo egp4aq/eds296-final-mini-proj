{
 "cells": [
  {
   "cell_type": "markdown",
   "id": "b2befd55",
   "metadata": {},
   "source": [
    "# EDS 296 Final Mini Project\n",
    "#### Authors: Liz Peterson & Brooke Grazda\n",
    "#### Date: 6-10-25"
   ]
  },
  {
   "cell_type": "markdown",
   "id": "b519bcb9",
   "metadata": {},
   "source": [
    "### Introduction"
   ]
  },
  {
   "cell_type": "code",
   "execution_count": null,
   "id": "d24101ef",
   "metadata": {},
   "outputs": [],
   "source": []
  },
  {
   "cell_type": "markdown",
   "id": "cd3771ea",
   "metadata": {},
   "source": [
    "### Metrics Definition"
   ]
  },
  {
   "cell_type": "code",
   "execution_count": null,
   "id": "e8035a0c",
   "metadata": {},
   "outputs": [],
   "source": []
  },
  {
   "cell_type": "markdown",
   "id": "0160eb0a",
   "metadata": {},
   "source": [
    "### Data I/O"
   ]
  },
  {
   "cell_type": "markdown",
   "id": "b169c166",
   "metadata": {},
   "source": []
  },
  {
   "cell_type": "markdown",
   "id": "b5dc243e",
   "metadata": {},
   "source": [
    "### Metrics Computation"
   ]
  },
  {
   "cell_type": "code",
   "execution_count": null,
   "id": "38bd7831",
   "metadata": {},
   "outputs": [],
   "source": []
  },
  {
   "cell_type": "markdown",
   "id": "02d3ed55",
   "metadata": {},
   "source": [
    "### Visualizations"
   ]
  },
  {
   "cell_type": "code",
   "execution_count": null,
   "id": "7de1ba19",
   "metadata": {},
   "outputs": [],
   "source": []
  },
  {
   "cell_type": "markdown",
   "id": "93582d02",
   "metadata": {},
   "source": [
    "### Conclusions"
   ]
  },
  {
   "cell_type": "code",
   "execution_count": null,
   "id": "aaadb2be",
   "metadata": {},
   "outputs": [],
   "source": []
  }
 ],
 "metadata": {
  "language_info": {
   "name": "python"
  }
 },
 "nbformat": 4,
 "nbformat_minor": 5
}
